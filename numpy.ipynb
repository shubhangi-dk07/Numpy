{
  "nbformat": 4,
  "nbformat_minor": 0,
  "metadata": {
    "colab": {
      "provenance": []
    },
    "kernelspec": {
      "name": "python3",
      "display_name": "Python 3"
    },
    "language_info": {
      "name": "python"
    }
  },
  "cells": [
    {
      "cell_type": "code",
      "source": [
        "pip install numpy"
      ],
      "metadata": {
        "colab": {
          "base_uri": "https://localhost:8080/"
        },
        "id": "gNh8MftrV1p9",
        "outputId": "93f0585b-ecf9-42d9-e0db-2276f5cb1212"
      },
      "execution_count": 2,
      "outputs": [
        {
          "output_type": "stream",
          "name": "stdout",
          "text": [
            "Requirement already satisfied: numpy in /usr/local/lib/python3.10/dist-packages (1.26.4)\n"
          ]
        }
      ]
    },
    {
      "cell_type": "code",
      "execution_count": 3,
      "metadata": {
        "id": "TP5fw2vlhKSl"
      },
      "outputs": [],
      "source": [
        "import numpy as np\n"
      ]
    },
    {
      "cell_type": "markdown",
      "source": [
        "**numpy creating arrays, slicing and attributes.**\n"
      ],
      "metadata": {
        "id": "LpSlTSrwhVee"
      }
    },
    {
      "cell_type": "code",
      "source": [
        "arr=np.array([10,20,30,40])\n",
        "print(arr)\n",
        "print(type(arr))"
      ],
      "metadata": {
        "colab": {
          "base_uri": "https://localhost:8080/"
        },
        "id": "OIIz6Tz0h1MA",
        "outputId": "ded16e2f-b8df-4716-bd08-981fb2932241"
      },
      "execution_count": 4,
      "outputs": [
        {
          "output_type": "stream",
          "name": "stdout",
          "text": [
            "[10 20 30 40]\n",
            "<class 'numpy.ndarray'>\n"
          ]
        }
      ]
    },
    {
      "cell_type": "code",
      "source": [
        "a=np.array([[10,20,30,40],[10,52,41,25],[62,12,24,35]])\n",
        "print(a)\n",
        "print(type(a))"
      ],
      "metadata": {
        "colab": {
          "base_uri": "https://localhost:8080/"
        },
        "id": "qROnVDliu1V4",
        "outputId": "9666ca07-df28-42a8-804e-a41aa61ff834"
      },
      "execution_count": 5,
      "outputs": [
        {
          "output_type": "stream",
          "name": "stdout",
          "text": [
            "[[10 20 30 40]\n",
            " [10 52 41 25]\n",
            " [62 12 24 35]]\n",
            "<class 'numpy.ndarray'>\n"
          ]
        }
      ]
    },
    {
      "cell_type": "code",
      "source": [
        "a=np.array([10,20,30,40])\n",
        "print(a[1:])\n",
        "print(type(a))\n"
      ],
      "metadata": {
        "colab": {
          "base_uri": "https://localhost:8080/"
        },
        "id": "5cn1IzdCu1g_",
        "outputId": "29b9a580-8bb6-42cd-aec3-df3763e0902c"
      },
      "execution_count": 6,
      "outputs": [
        {
          "output_type": "stream",
          "name": "stdout",
          "text": [
            "[20 30 40]\n",
            "<class 'numpy.ndarray'>\n"
          ]
        }
      ]
    },
    {
      "cell_type": "code",
      "source": [
        "a=np.array([10,20,30,40])\n",
        "print(a[0:2])"
      ],
      "metadata": {
        "colab": {
          "base_uri": "https://localhost:8080/"
        },
        "id": "VnBNgzJzu1la",
        "outputId": "c050c0cc-9932-4b8d-aeef-002560837ef4"
      },
      "execution_count": 7,
      "outputs": [
        {
          "output_type": "stream",
          "name": "stdout",
          "text": [
            "[10 20]\n"
          ]
        }
      ]
    },
    {
      "cell_type": "code",
      "source": [
        "a=np.array([10,20,30,40])\n",
        "print(a[:3])"
      ],
      "metadata": {
        "colab": {
          "base_uri": "https://localhost:8080/"
        },
        "id": "dpo6XaQru1on",
        "outputId": "17619275-72af-4a84-ebdc-9dfc6963ecf1"
      },
      "execution_count": 8,
      "outputs": [
        {
          "output_type": "stream",
          "name": "stdout",
          "text": [
            "[10 20 30]\n"
          ]
        }
      ]
    },
    {
      "cell_type": "markdown",
      "source": [],
      "metadata": {
        "id": "oONsmd8HhS8P"
      }
    },
    {
      "cell_type": "code",
      "source": [
        "a=np.array([[10,20,30,40],[10,52,41,25]])\n",
        "print(a)"
      ],
      "metadata": {
        "colab": {
          "base_uri": "https://localhost:8080/"
        },
        "id": "iUtngBP2x0I5",
        "outputId": "fe9b9b3f-a83c-461d-ed4a-bc95f44c71c5"
      },
      "execution_count": 9,
      "outputs": [
        {
          "output_type": "stream",
          "name": "stdout",
          "text": [
            "[[10 20 30 40]\n",
            " [10 52 41 25]]\n"
          ]
        }
      ]
    },
    {
      "cell_type": "code",
      "source": [
        "a=np.array([[10,20,30,40],[10,52,41,25]])\n",
        "print(a[0:2,0:2])"
      ],
      "metadata": {
        "colab": {
          "base_uri": "https://localhost:8080/"
        },
        "id": "LEFZ2A8Kx0RZ",
        "outputId": "1525e357-29b8-42d5-bd06-bcb21536df3d"
      },
      "execution_count": 10,
      "outputs": [
        {
          "output_type": "stream",
          "name": "stdout",
          "text": [
            "[[10 20]\n",
            " [10 52]]\n"
          ]
        }
      ]
    },
    {
      "cell_type": "code",
      "source": [
        "a=np.array([[10,20,30,40],[10,52,41,25]])\n",
        "print(a[0:2,0:3])"
      ],
      "metadata": {
        "colab": {
          "base_uri": "https://localhost:8080/"
        },
        "id": "qfcGvEYmx1DY",
        "outputId": "5bab7a3b-dca0-4f8b-8f77-94d9f29cb373"
      },
      "execution_count": 11,
      "outputs": [
        {
          "output_type": "stream",
          "name": "stdout",
          "text": [
            "[[10 20 30]\n",
            " [10 52 41]]\n"
          ]
        }
      ]
    },
    {
      "cell_type": "code",
      "source": [
        "   a=np.array([[10,20,30,40],[10,52,41,25],[62,12,24,35]])\n",
        "print(a[0,0:2])"
      ],
      "metadata": {
        "colab": {
          "base_uri": "https://localhost:8080/"
        },
        "id": "21bUVrDkx1Iw",
        "outputId": "5dafe4b9-451a-4c83-ed76-a88425052a69"
      },
      "execution_count": 12,
      "outputs": [
        {
          "output_type": "stream",
          "name": "stdout",
          "text": [
            "[10 20]\n"
          ]
        }
      ]
    },
    {
      "cell_type": "code",
      "source": [
        "a=np.array([[10,20,30,40],[10,52,41,25],[62,12,24,35]])\n",
        "print(a[1,0:2])"
      ],
      "metadata": {
        "colab": {
          "base_uri": "https://localhost:8080/"
        },
        "id": "oucrdaqIx1OQ",
        "outputId": "4bfeb8e0-c4d6-40ce-afde-cb619b238609"
      },
      "execution_count": 13,
      "outputs": [
        {
          "output_type": "stream",
          "name": "stdout",
          "text": [
            "[10 52]\n"
          ]
        }
      ]
    },
    {
      "cell_type": "code",
      "source": [
        "a=np.array([[10,20,30,40],[10,52,41,25],[62,12,24,35]])\n",
        "print(a[2,0:2])"
      ],
      "metadata": {
        "colab": {
          "base_uri": "https://localhost:8080/"
        },
        "id": "-JVzwLGCx1TA",
        "outputId": "3f5d0f39-db5c-4b08-8271-d2df8447514c"
      },
      "execution_count": 14,
      "outputs": [
        {
          "output_type": "stream",
          "name": "stdout",
          "text": [
            "[62 12]\n"
          ]
        }
      ]
    },
    {
      "cell_type": "code",
      "source": [
        "a=np.array([[10,20,30,40],[10,52,41,25],[62,12,24,35]])\n",
        "print(a[2,2])"
      ],
      "metadata": {
        "colab": {
          "base_uri": "https://localhost:8080/"
        },
        "id": "Mp65NpM0Aq7k",
        "outputId": "61ab3c7b-4900-42e4-8f6d-066fca8b60ff"
      },
      "execution_count": 15,
      "outputs": [
        {
          "output_type": "stream",
          "name": "stdout",
          "text": [
            "24\n"
          ]
        }
      ]
    },
    {
      "cell_type": "code",
      "source": [
        "#atrributes\n",
        "a=np.array([[10,20,30,40],[10,52,41,25],[62,12,24,35]])\n",
        "print(np.shape(a)) #shape of array\n",
        "print(np.size(a)) #size of array no of elements\n",
        "print(np.ndim(a))  #number of dimenstions\n",
        "print(a.dtype) #data type of array"
      ],
      "metadata": {
        "colab": {
          "base_uri": "https://localhost:8080/"
        },
        "id": "7Qqs3qc1As5B",
        "outputId": "3e5b70e2-a59d-44f0-ce7a-66b01e096de0"
      },
      "execution_count": 16,
      "outputs": [
        {
          "output_type": "stream",
          "name": "stdout",
          "text": [
            "(3, 4)\n",
            "12\n",
            "2\n",
            "int64\n"
          ]
        }
      ]
    },
    {
      "cell_type": "markdown",
      "source": [
        "**inpecting a array**"
      ],
      "metadata": {
        "id": "IimgUJtICXGB"
      }
    },
    {
      "cell_type": "code",
      "source": [
        "import numpy as np\n",
        "a=np.array([[10,20],[53,46]])\n",
        "print(a)\n",
        "print(a.shape) # rows,columns\n",
        "print(len(a))# no of nested values\n",
        "print(np.size(a))# no of elements\n",
        "print(type(a)) # data type of variable\n",
        "print(a.dtype) # data type of array\n",
        "print(a.astype(float))# converstion of datatype of array elements"
      ],
      "metadata": {
        "colab": {
          "base_uri": "https://localhost:8080/"
        },
        "id": "DwKsR-aFBC72",
        "outputId": "5269452c-270f-4039-bc69-777964d8d245"
      },
      "execution_count": 17,
      "outputs": [
        {
          "output_type": "stream",
          "name": "stdout",
          "text": [
            "[[10 20]\n",
            " [53 46]]\n",
            "(2, 2)\n",
            "2\n",
            "4\n",
            "<class 'numpy.ndarray'>\n",
            "int64\n",
            "[[10. 20.]\n",
            " [53. 46.]]\n"
          ]
        }
      ]
    },
    {
      "cell_type": "markdown",
      "source": [
        "**mathematical oprations and functions on array**\n"
      ],
      "metadata": {
        "id": "H01t14vjGRXy"
      }
    },
    {
      "cell_type": "code",
      "source": [
        "arr1=np.array([[10,20],[40,50]])\n",
        "arr2=np.array([[110,120],[140,150]])\n",
        "print(arr1)\n",
        "print(arr2)\n",
        "print(arr1+arr2)\n",
        "print(np.add(arr1,arr2))"
      ],
      "metadata": {
        "id": "XCD4GS-SD0CC",
        "colab": {
          "base_uri": "https://localhost:8080/"
        },
        "outputId": "bfa1881a-9706-4bc7-b32b-eb05b4bd2b19"
      },
      "execution_count": 18,
      "outputs": [
        {
          "output_type": "stream",
          "name": "stdout",
          "text": [
            "[[10 20]\n",
            " [40 50]]\n",
            "[[110 120]\n",
            " [140 150]]\n",
            "[[120 140]\n",
            " [180 200]]\n",
            "[[120 140]\n",
            " [180 200]]\n"
          ]
        }
      ]
    },
    {
      "cell_type": "code",
      "source": [
        "arr1=np.array([[10,20],[40,50]])\n",
        "arr2=np.array([[110,120],[140,150]])\n",
        "print(arr1)\n",
        "print(arr2)\n",
        "print(arr1-arr2)\n",
        "print(np.subtract(arr1,arr2))"
      ],
      "metadata": {
        "colab": {
          "base_uri": "https://localhost:8080/"
        },
        "id": "tPFJdQlS7nLM",
        "outputId": "65a2297b-d61b-4975-a26f-f6d5e1806908"
      },
      "execution_count": 19,
      "outputs": [
        {
          "output_type": "stream",
          "name": "stdout",
          "text": [
            "[[10 20]\n",
            " [40 50]]\n",
            "[[110 120]\n",
            " [140 150]]\n",
            "[[-100 -100]\n",
            " [-100 -100]]\n",
            "[[-100 -100]\n",
            " [-100 -100]]\n"
          ]
        }
      ]
    },
    {
      "cell_type": "code",
      "source": [
        "arr1=np.array([[10,20],[40,50]])\n",
        "arr2=np.array([[110,120],[140,150]])\n",
        "print(arr1)\n",
        "print(arr2)\n",
        "print(arr1*arr2)\n",
        "print(np.multiply(arr1,arr2))"
      ],
      "metadata": {
        "colab": {
          "base_uri": "https://localhost:8080/"
        },
        "id": "8HmAi8K78i37",
        "outputId": "103bc3d9-e0df-47e9-bb06-5b05f2647859"
      },
      "execution_count": 20,
      "outputs": [
        {
          "output_type": "stream",
          "name": "stdout",
          "text": [
            "[[10 20]\n",
            " [40 50]]\n",
            "[[110 120]\n",
            " [140 150]]\n",
            "[[1100 2400]\n",
            " [5600 7500]]\n",
            "[[1100 2400]\n",
            " [5600 7500]]\n"
          ]
        }
      ]
    },
    {
      "cell_type": "code",
      "source": [
        "arr1=np.array([[10,20],[40,50]])\n",
        "arr2=np.array([[110,120],[140,150]])\n",
        "print(arr1)\n",
        "print(arr2)\n",
        "print(arr1/arr2)\n",
        "print(np.divide(arr1,arr2))"
      ],
      "metadata": {
        "colab": {
          "base_uri": "https://localhost:8080/"
        },
        "id": "ctW_mexw8jTS",
        "outputId": "a1b459ab-df6c-41e2-88ef-742b3f26c2ff"
      },
      "execution_count": 21,
      "outputs": [
        {
          "output_type": "stream",
          "name": "stdout",
          "text": [
            "[[10 20]\n",
            " [40 50]]\n",
            "[[110 120]\n",
            " [140 150]]\n",
            "[[0.09090909 0.16666667]\n",
            " [0.28571429 0.33333333]]\n",
            "[[0.09090909 0.16666667]\n",
            " [0.28571429 0.33333333]]\n"
          ]
        }
      ]
    },
    {
      "cell_type": "code",
      "source": [
        "arr1=np.array([1,2,3,4,5])\n",
        "arr2=np.array([2])\n",
        "print(np.power(arr1,arr2))"
      ],
      "metadata": {
        "colab": {
          "base_uri": "https://localhost:8080/"
        },
        "id": "XukN3aVg8jeL",
        "outputId": "8db1a9bd-c5c2-4508-cc2f-0186827a5bd6"
      },
      "execution_count": 22,
      "outputs": [
        {
          "output_type": "stream",
          "name": "stdout",
          "text": [
            "[ 1  4  9 16 25]\n"
          ]
        }
      ]
    },
    {
      "cell_type": "code",
      "source": [
        "arr1=np.array([ 1 , 4 , 9, 16, 25])\n",
        "\n",
        "print(np.sqrt(arr1))"
      ],
      "metadata": {
        "colab": {
          "base_uri": "https://localhost:8080/"
        },
        "id": "AmjNUcOa9sGi",
        "outputId": "fa68633b-0d55-4f56-e376-fe89a44fde36"
      },
      "execution_count": 23,
      "outputs": [
        {
          "output_type": "stream",
          "name": "stdout",
          "text": [
            "[1. 2. 3. 4. 5.]\n"
          ]
        }
      ]
    },
    {
      "cell_type": "markdown",
      "source": [
        "** Combining and splitting Arrays**\n",
        " **bold text**"
      ],
      "metadata": {
        "id": "c_lK3Z-e-Xt6"
      }
    },
    {
      "cell_type": "code",
      "source": [
        "a=[1,2,3,4,5]\n",
        "b=[10,20,30,40,50]\n",
        "print(a+b)"
      ],
      "metadata": {
        "colab": {
          "base_uri": "https://localhost:8080/"
        },
        "id": "oExqbSIH9yhx",
        "outputId": "f446b2f7-9da3-44aa-b683-0e226d09bb3a"
      },
      "execution_count": 24,
      "outputs": [
        {
          "output_type": "stream",
          "name": "stdout",
          "text": [
            "[1, 2, 3, 4, 5, 10, 20, 30, 40, 50]\n"
          ]
        }
      ]
    },
    {
      "cell_type": "code",
      "source": [
        "import numpy as np\n",
        "arr1=np.array([1,2,3,4,5])\n",
        "arr2=np.array([10,20,30,40,50])\n",
        "\n",
        "print(np.concatenate([arr1,arr2]))"
      ],
      "metadata": {
        "colab": {
          "base_uri": "https://localhost:8080/"
        },
        "id": "LEdNOK25_50f",
        "outputId": "beb82342-76e6-41d9-91aa-5ca0ba1e5ad0"
      },
      "execution_count": 25,
      "outputs": [
        {
          "output_type": "stream",
          "name": "stdout",
          "text": [
            "[ 1  2  3  4  5 10 20 30 40 50]\n"
          ]
        }
      ]
    },
    {
      "cell_type": "code",
      "source": [
        "arr1=np.array([[1,2],[4,5]])\n",
        "arr2=np.array([[10,20],[40,50]])\n",
        "\n",
        "print(np.concatenate([arr1,arr2]))"
      ],
      "metadata": {
        "colab": {
          "base_uri": "https://localhost:8080/"
        },
        "id": "nlbadMudCZnb",
        "outputId": "3a6965d7-c3e5-4c27-ec3e-7d4aa8fccd24"
      },
      "execution_count": 26,
      "outputs": [
        {
          "output_type": "stream",
          "name": "stdout",
          "text": [
            "[[ 1  2]\n",
            " [ 4  5]\n",
            " [10 20]\n",
            " [40 50]]\n"
          ]
        }
      ]
    },
    {
      "cell_type": "code",
      "source": [
        "arr1=np.array([[1,2],[4,5]])\n",
        "arr2=np.array([[10,20],[40,50]])\n",
        "\n",
        "print(np.concatenate([arr1,arr2], axis=1))"
      ],
      "metadata": {
        "colab": {
          "base_uri": "https://localhost:8080/"
        },
        "id": "GG9YrEmoAdBn",
        "outputId": "8feb022b-c3d6-4eea-8bcf-6a0d97a98afb"
      },
      "execution_count": 57,
      "outputs": [
        {
          "output_type": "stream",
          "name": "stdout",
          "text": [
            "[[ 1  2 10 20]\n",
            " [ 4  5 40 50]]\n"
          ]
        }
      ]
    },
    {
      "cell_type": "code",
      "source": [
        "print(np.hstack([arr1,arr2])) # horizonatal concatination"
      ],
      "metadata": {
        "colab": {
          "base_uri": "https://localhost:8080/"
        },
        "id": "JLuqMy2qCI4S",
        "outputId": "a1a6e44d-c046-4fcd-c50d-a75a688cbcac"
      },
      "execution_count": 28,
      "outputs": [
        {
          "output_type": "stream",
          "name": "stdout",
          "text": [
            "[[ 1  2 10 20]\n",
            " [ 4  5 40 50]]\n"
          ]
        }
      ]
    },
    {
      "cell_type": "code",
      "source": [
        "print(np.vstack([arr1,arr2]))  # vertical concatination"
      ],
      "metadata": {
        "colab": {
          "base_uri": "https://localhost:8080/"
        },
        "id": "88I5jNyvDAqi",
        "outputId": "6af1f82c-9774-498e-e383-9d3a88278f5d"
      },
      "execution_count": 29,
      "outputs": [
        {
          "output_type": "stream",
          "name": "stdout",
          "text": [
            "[[ 1  2]\n",
            " [ 4  5]\n",
            " [10 20]\n",
            " [40 50]]\n"
          ]
        }
      ]
    },
    {
      "cell_type": "code",
      "source": [
        "a=np.array([1,2,3,4,5,6])\n",
        "b=np.array_split(a,3)\n",
        "print(b)\n",
        "print(b[1])"
      ],
      "metadata": {
        "colab": {
          "base_uri": "https://localhost:8080/"
        },
        "id": "wZPMilRoDKlC",
        "outputId": "c1113235-97d0-4587-eb3a-989796a48449"
      },
      "execution_count": 30,
      "outputs": [
        {
          "output_type": "stream",
          "name": "stdout",
          "text": [
            "[array([1, 2]), array([3, 4]), array([5, 6])]\n",
            "[3 4]\n"
          ]
        }
      ]
    },
    {
      "cell_type": "markdown",
      "source": [
        " Adding and Removing elements in the arrays"
      ],
      "metadata": {
        "id": "VXahU27ZEugM"
      }
    },
    {
      "cell_type": "code",
      "source": [
        "import numpy as np\n"
      ],
      "metadata": {
        "id": "UXjTeGjAEMjy"
      },
      "execution_count": 31,
      "outputs": []
    },
    {
      "cell_type": "code",
      "source": [
        "a= np.array([20,60,40,60])\n",
        "print(np.append(a,80))"
      ],
      "metadata": {
        "colab": {
          "base_uri": "https://localhost:8080/"
        },
        "id": "KibX2iJ2PJI5",
        "outputId": "f7170786-81a2-4108-9826-057d4a7dc228"
      },
      "execution_count": 32,
      "outputs": [
        {
          "output_type": "stream",
          "name": "stdout",
          "text": [
            "[20 60 40 60 80]\n"
          ]
        }
      ]
    },
    {
      "cell_type": "code",
      "source": [
        "a= np.array([[20,60],[40,60]])\n",
        "print(np.append(a,80))"
      ],
      "metadata": {
        "colab": {
          "base_uri": "https://localhost:8080/"
        },
        "id": "kOFce-cKPk0Z",
        "outputId": "c66fb83b-df17-44ed-e7d6-9bd3289bc60a"
      },
      "execution_count": 33,
      "outputs": [
        {
          "output_type": "stream",
          "name": "stdout",
          "text": [
            "[20 60 40 60 80]\n"
          ]
        }
      ]
    },
    {
      "cell_type": "code",
      "source": [
        "a= np.array([[20,60],[40,60]])\n",
        "print(np.append(a,[80,12]))"
      ],
      "metadata": {
        "colab": {
          "base_uri": "https://localhost:8080/"
        },
        "id": "ybyfFr0WRqSg",
        "outputId": "379fa986-0235-4a39-b8c7-1264cbc13d68"
      },
      "execution_count": 34,
      "outputs": [
        {
          "output_type": "stream",
          "name": "stdout",
          "text": [
            "[20 60 40 60 80 12]\n"
          ]
        }
      ]
    },
    {
      "cell_type": "code",
      "source": [
        "a= np.array([20,60,40,60])\n",
        "print(np.insert(a,1,20)) #array,index,value"
      ],
      "metadata": {
        "colab": {
          "base_uri": "https://localhost:8080/"
        },
        "id": "4bl9R6uoRqHg",
        "outputId": "4bbf19a8-c0e0-4533-acab-c90f454dad32"
      },
      "execution_count": 35,
      "outputs": [
        {
          "output_type": "stream",
          "name": "stdout",
          "text": [
            "[20 20 60 40 60]\n"
          ]
        }
      ]
    },
    {
      "cell_type": "code",
      "source": [
        "a= np.array([[20,60],[40,60]])\n",
        "print(np.insert(a,1,20))"
      ],
      "metadata": {
        "colab": {
          "base_uri": "https://localhost:8080/"
        },
        "id": "IG2YXdL7Rp0B",
        "outputId": "bd53cc7f-c4ae-403b-a04d-04deaeb2e244"
      },
      "execution_count": 36,
      "outputs": [
        {
          "output_type": "stream",
          "name": "stdout",
          "text": [
            "[20 20 60 40 60]\n"
          ]
        }
      ]
    },
    {
      "cell_type": "code",
      "source": [
        "a= np.array([[20,60],[40,60]])\n",
        "print(np.insert(a,1,[20,30]))"
      ],
      "metadata": {
        "colab": {
          "base_uri": "https://localhost:8080/"
        },
        "id": "2Ez4QsEpWbGD",
        "outputId": "d2aae018-5529-41bd-c84d-fbd6c16d5f33"
      },
      "execution_count": 37,
      "outputs": [
        {
          "output_type": "stream",
          "name": "stdout",
          "text": [
            "[20 20 30 60 40 60]\n"
          ]
        }
      ]
    },
    {
      "cell_type": "code",
      "source": [
        "a= np.array([[20,60],[40,60]])\n",
        "print(np.insert(a,1,[20,30], axis=0))"
      ],
      "metadata": {
        "colab": {
          "base_uri": "https://localhost:8080/"
        },
        "id": "msB_BVhrWbDA",
        "outputId": "60f86c1b-d5ee-4404-a495-1ff1982b6171"
      },
      "execution_count": 38,
      "outputs": [
        {
          "output_type": "stream",
          "name": "stdout",
          "text": [
            "[[20 60]\n",
            " [20 30]\n",
            " [40 60]]\n"
          ]
        }
      ]
    },
    {
      "cell_type": "code",
      "source": [
        "a= np.array([[20,60],[40,60]])\n",
        "print(np.insert(a,1,[30], axis=0))"
      ],
      "metadata": {
        "colab": {
          "base_uri": "https://localhost:8080/"
        },
        "id": "bIsEphELWa6j",
        "outputId": "07c7a5f1-5a13-4092-ec9f-5d158f498c45"
      },
      "execution_count": 39,
      "outputs": [
        {
          "output_type": "stream",
          "name": "stdout",
          "text": [
            "[[20 60]\n",
            " [30 30]\n",
            " [40 60]]\n"
          ]
        }
      ]
    },
    {
      "cell_type": "code",
      "source": [
        "a= np.array([[20,60],[40,60]])\n",
        "print(np.insert(a,[1,2],[30], axis=0))"
      ],
      "metadata": {
        "colab": {
          "base_uri": "https://localhost:8080/"
        },
        "id": "7ervMJwnWa4M",
        "outputId": "51966a7e-5649-4096-e821-bf217a1395f8"
      },
      "execution_count": 40,
      "outputs": [
        {
          "output_type": "stream",
          "name": "stdout",
          "text": [
            "[[20 60]\n",
            " [30 30]\n",
            " [40 60]\n",
            " [30 30]]\n"
          ]
        }
      ]
    },
    {
      "cell_type": "code",
      "source": [
        "print(a)\n",
        "print(np.delete(a,1))"
      ],
      "metadata": {
        "colab": {
          "base_uri": "https://localhost:8080/"
        },
        "id": "nfENJV6gWa1R",
        "outputId": "c127696a-c1df-4649-91ed-7cb9eb2441a2"
      },
      "execution_count": 41,
      "outputs": [
        {
          "output_type": "stream",
          "name": "stdout",
          "text": [
            "[[20 60]\n",
            " [40 60]]\n",
            "[20 40 60]\n"
          ]
        }
      ]
    },
    {
      "cell_type": "code",
      "source": [
        "print(a)\n",
        "print(np.delete(a,1, axis=0))"
      ],
      "metadata": {
        "colab": {
          "base_uri": "https://localhost:8080/"
        },
        "id": "nszDyfFTWayB",
        "outputId": "cc452e58-5de4-4a03-eb5b-4404a2e38c35"
      },
      "execution_count": 42,
      "outputs": [
        {
          "output_type": "stream",
          "name": "stdout",
          "text": [
            "[[20 60]\n",
            " [40 60]]\n",
            "[[20 60]]\n"
          ]
        }
      ]
    },
    {
      "cell_type": "code",
      "source": [
        "print(a)\n",
        "print(np.delete(a,1, axis=1))"
      ],
      "metadata": {
        "colab": {
          "base_uri": "https://localhost:8080/"
        },
        "id": "T6sV6ofsWarx",
        "outputId": "de9a9066-e5fb-4407-9ff1-adacbbb08889"
      },
      "execution_count": 43,
      "outputs": [
        {
          "output_type": "stream",
          "name": "stdout",
          "text": [
            "[[20 60]\n",
            " [40 60]]\n",
            "[[20]\n",
            " [40]]\n"
          ]
        }
      ]
    },
    {
      "cell_type": "markdown",
      "source": [
        "** Aggregating functions in arrays**\n",
        "\n",
        "\n",
        "\n"
      ],
      "metadata": {
        "id": "o-tdZRnDjRH8"
      }
    },
    {
      "cell_type": "code",
      "source": [
        "import numpy as np\n",
        "a=np.array([20,40,60,70])\n",
        "print(a)"
      ],
      "metadata": {
        "colab": {
          "base_uri": "https://localhost:8080/"
        },
        "id": "nKzF-JUfjYOi",
        "outputId": "b44c2edb-eb75-4439-ac6f-4de4c6d194b1"
      },
      "execution_count": 44,
      "outputs": [
        {
          "output_type": "stream",
          "name": "stdout",
          "text": [
            "[20 40 60 70]\n"
          ]
        }
      ]
    },
    {
      "cell_type": "code",
      "source": [
        "print(np.sum(a))"
      ],
      "metadata": {
        "colab": {
          "base_uri": "https://localhost:8080/"
        },
        "id": "vfbjTztUjYLq",
        "outputId": "d571b869-eb83-4d9a-a312-7a3a5e3d01ee"
      },
      "execution_count": 45,
      "outputs": [
        {
          "output_type": "stream",
          "name": "stdout",
          "text": [
            "190\n"
          ]
        }
      ]
    },
    {
      "cell_type": "code",
      "source": [
        "print(np.min(a))"
      ],
      "metadata": {
        "colab": {
          "base_uri": "https://localhost:8080/"
        },
        "id": "XKxxHNmxjYIs",
        "outputId": "eed65f82-6f76-4ce5-fa1e-ded604312367"
      },
      "execution_count": 46,
      "outputs": [
        {
          "output_type": "stream",
          "name": "stdout",
          "text": [
            "20\n"
          ]
        }
      ]
    },
    {
      "cell_type": "code",
      "source": [
        "print(np.max(a))"
      ],
      "metadata": {
        "colab": {
          "base_uri": "https://localhost:8080/"
        },
        "id": "0_ue9PbXjYF0",
        "outputId": "debdb161-55a3-426c-8a68-04efb2b604b3"
      },
      "execution_count": 47,
      "outputs": [
        {
          "output_type": "stream",
          "name": "stdout",
          "text": [
            "70\n"
          ]
        }
      ]
    },
    {
      "cell_type": "code",
      "source": [
        "print(np.size(a))"
      ],
      "metadata": {
        "colab": {
          "base_uri": "https://localhost:8080/"
        },
        "id": "J1xq05tXjYC-",
        "outputId": "7ca532b0-8dc6-492f-8a93-0e7decc84466"
      },
      "execution_count": 48,
      "outputs": [
        {
          "output_type": "stream",
          "name": "stdout",
          "text": [
            "4\n"
          ]
        }
      ]
    },
    {
      "cell_type": "code",
      "source": [
        "print(np.mean(a))"
      ],
      "metadata": {
        "colab": {
          "base_uri": "https://localhost:8080/"
        },
        "id": "lXGQkhcqjYAI",
        "outputId": "a80a2fe8-d1f1-4e49-f686-4473d97771f4"
      },
      "execution_count": 49,
      "outputs": [
        {
          "output_type": "stream",
          "name": "stdout",
          "text": [
            "47.5\n"
          ]
        }
      ]
    },
    {
      "cell_type": "code",
      "source": [
        "print(np.cumsum(a))"
      ],
      "metadata": {
        "colab": {
          "base_uri": "https://localhost:8080/"
        },
        "id": "pod5LngwjX9L",
        "outputId": "e58b90e8-ee0f-401a-a153-b455817f73dd"
      },
      "execution_count": 50,
      "outputs": [
        {
          "output_type": "stream",
          "name": "stdout",
          "text": [
            "[ 20  60 120 190]\n"
          ]
        }
      ]
    },
    {
      "cell_type": "code",
      "source": [
        "print(np.cumprod(a))"
      ],
      "metadata": {
        "colab": {
          "base_uri": "https://localhost:8080/"
        },
        "id": "6VPttov6jXz1",
        "outputId": "82fdfaf9-1e94-41ad-c0fc-643cb1a3f1af"
      },
      "execution_count": 51,
      "outputs": [
        {
          "output_type": "stream",
          "name": "stdout",
          "text": [
            "[     20     800   48000 3360000]\n"
          ]
        }
      ]
    },
    {
      "cell_type": "markdown",
      "source": [
        "**Statistical functions in arrays**\n",
        "\n",
        "\n"
      ],
      "metadata": {
        "id": "XnpQrCgsjZBy"
      }
    },
    {
      "cell_type": "code",
      "source": [
        "a=[100,150,199,200,250,130]\n",
        "b=[10,50,30,40,30,10]\n",
        "\n",
        "price=np.array(a)\n",
        "quantity=np.array(b)\n",
        "print(price,\"\\n\",quantity)\n",
        "print()\n",
        "c=np.cumprod([price,quantity], axis=0)\n",
        "print(c)\n",
        "print(c[1].sum())"
      ],
      "metadata": {
        "id": "iCLLTOiKlh59",
        "colab": {
          "base_uri": "https://localhost:8080/"
        },
        "outputId": "7c5878ab-8ce6-4204-9858-0bd8e8818c6f"
      },
      "execution_count": 52,
      "outputs": [
        {
          "output_type": "stream",
          "name": "stdout",
          "text": [
            "[100 150 199 200 250 130] \n",
            " [10 50 30 40 30 10]\n",
            "\n",
            "[[ 100  150  199  200  250  130]\n",
            " [1000 7500 5970 8000 7500 1300]]\n",
            "31270\n"
          ]
        }
      ]
    },
    {
      "cell_type": "code",
      "source": [
        "import numpy as np\n",
        "import statistics as stats\n",
        "baked_food=[200,150,150,130,200,220,170,188]\n",
        "a =np.array(baked_food)\n",
        "print(np.mean(baked_food)) # sum of all the values/number of values\n",
        "print(np.median(baked_food)) # central value after sorting\n",
        "print(stats.mode(baked_food))\n",
        "print(np.std(baked_food))\n",
        "print(np.var(baked_food))"
      ],
      "metadata": {
        "id": "a6Vh97Pglh3n",
        "colab": {
          "base_uri": "https://localhost:8080/"
        },
        "outputId": "724d6461-eef0-4951-fe76-c6624c793fbf"
      },
      "execution_count": 53,
      "outputs": [
        {
          "output_type": "stream",
          "name": "stdout",
          "text": [
            "176.0\n",
            "179.0\n",
            "200\n",
            "29.017236257093817\n",
            "842.0\n"
          ]
        }
      ]
    },
    {
      "cell_type": "code",
      "source": [
        "#-1 represent inversely proportional relationship\n",
        "# 1 represents proportional relationship\n",
        "# 0 means no relationship\n",
        "\n",
        "tobacco_consumption =[30,50,10,30,50,40]\n",
        "deaths=[100,120,70,100,120,112]\n",
        "\n",
        "print(np.corrcoef([tobacco_consumption,deaths]))"
      ],
      "metadata": {
        "id": "BS35UeAUlh1B",
        "colab": {
          "base_uri": "https://localhost:8080/"
        },
        "outputId": "07687495-0336-495c-8e33-7dbbd0c15d78"
      },
      "execution_count": 54,
      "outputs": [
        {
          "output_type": "stream",
          "name": "stdout",
          "text": [
            "[[1.         0.99015454]\n",
            " [0.99015454 1.        ]]\n"
          ]
        }
      ]
    },
    {
      "cell_type": "code",
      "source": [
        "price = [300,100,350,150,200]\n",
        "sales =[10,20,7,17,3]\n",
        "\n",
        "\n",
        "print(np.corrcoef([price,sales]))"
      ],
      "metadata": {
        "id": "HoEgbj9plhyb",
        "colab": {
          "base_uri": "https://localhost:8080/"
        },
        "outputId": "c4c860d8-256b-46cf-832d-c1deb899d9b9"
      },
      "execution_count": 55,
      "outputs": [
        {
          "output_type": "stream",
          "name": "stdout",
          "text": [
            "[[ 1.         -0.66621445]\n",
            " [-0.66621445  1.        ]]\n"
          ]
        }
      ]
    },
    {
      "cell_type": "code",
      "source": [],
      "metadata": {
        "id": "mPkSDTfZlhvv"
      },
      "execution_count": 55,
      "outputs": []
    },
    {
      "cell_type": "code",
      "source": [],
      "metadata": {
        "id": "WtkYlDrNlhs6"
      },
      "execution_count": 55,
      "outputs": []
    },
    {
      "cell_type": "code",
      "source": [],
      "metadata": {
        "id": "5mxqsPPxlhpT"
      },
      "execution_count": 55,
      "outputs": []
    },
    {
      "cell_type": "code",
      "source": [],
      "metadata": {
        "id": "UauG1DXilhaU"
      },
      "execution_count": 55,
      "outputs": []
    }
  ]
}